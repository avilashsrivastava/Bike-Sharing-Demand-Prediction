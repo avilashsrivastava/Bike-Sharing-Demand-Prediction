{
  "nbformat": 4,
  "nbformat_minor": 0,
  "metadata": {
    "kernelspec": {
      "display_name": "Python 3",
      "language": "python",
      "name": "python3"
    },
    "language_info": {
      "codemirror_mode": {
        "name": "ipython",
        "version": 3
      },
      "file_extension": ".py",
      "mimetype": "text/x-python",
      "name": "python",
      "nbconvert_exporter": "python",
      "pygments_lexer": "ipython3",
      "version": "3.6.6"
    },
    "colab": {
      "name": "Individual Final Notebook.ipynb",
      "provenance": [],
      "collapsed_sections": [],
      "include_colab_link": true
    }
  },
  "cells": [
    {
      "cell_type": "markdown",
      "metadata": {
        "id": "view-in-github",
        "colab_type": "text"
      },
      "source": [
        "<a href=\"https://colab.research.google.com/github/avilashsrivastava/Bike-Sharing-Demand-Prediction/blob/main/Individual_Final_Notebook.ipynb\" target=\"_parent\"><img src=\"https://colab.research.google.com/assets/colab-badge.svg\" alt=\"Open In Colab\"/></a>"
      ]
    },
    {
      "cell_type": "markdown",
      "metadata": {
        "id": "tOGC-qoyhJeX"
      },
      "source": [
        "# <b><u> Project Title : Seoul Bike Sharing Demand Prediction </u></b>"
      ]
    },
    {
      "cell_type": "markdown",
      "metadata": {
        "id": "Y06xIdG26kRF"
      },
      "source": [
        "## <b> Problem Description </b>\n",
        "\n",
        "### Currently Rental bikes are introduced in many urban cities for the enhancement of mobility comfort. It is important to make the rental bike available and accessible to the public at the right time as it lessens the waiting time. Eventually, providing the city with a stable supply of rental bikes becomes a major concern. The crucial part is the prediction of bike count required at each hour for the stable supply of rental bikes.\n"
      ]
    },
    {
      "cell_type": "markdown",
      "metadata": {
        "id": "AlLxAtlziMbP"
      },
      "source": [
        "## <b> Data Description </b>\n",
        "\n",
        "### <b> The dataset contains weather information (Temperature, Humidity, Windspeed, Visibility, Dewpoint, Solar radiation, Snowfall, Rainfall), the number of bikes rented per hour and date information.</b>\n",
        "\n",
        "\n",
        "### <b>Attribute Information: </b>\n",
        "\n",
        "* ### Date : year-month-day\n",
        "* ### Rented Bike count - Count of bikes rented at each hour\n",
        "* ### Hour - Hour of he day\n",
        "* ### Temperature-Temperature in Celsius\n",
        "* ### Humidity - %\n",
        "* ### Windspeed - m/s\n",
        "* ### Visibility - 10m\n",
        "* ### Dew point temperature - Celsius\n",
        "* ### Solar radiation - MJ/m2\n",
        "* ### Rainfall - mm\n",
        "* ### Snowfall - cm\n",
        "* ### Seasons - Winter, Spring, Summer, Autumn\n",
        "* ### Holiday - Holiday/No holiday\n",
        "* ### Functional Day - NoFunc(Non Functional Hours), Fun(Functional hours)"
      ]
    },
    {
      "cell_type": "markdown",
      "metadata": {
        "id": "htASKMDZeQso"
      },
      "source": [
        "# Introduction"
      ]
    },
    {
      "cell_type": "markdown",
      "metadata": {
        "id": "vb9_PvU2jQt-"
      },
      "source": [
        "<b> “All knowledge - past, present, and future - can be derived from data by a single, universal learning algorithm.”</b> - Pedro Domingos; Pedro is a professor of computer science and engineering at the University of Washington. He is a researcher in machine learning known for Markov logic network enabling uncertain inference.\n",
        "\n",
        "<b> \"Machine Learning\"</b>, has become a boon for modern day science as it not only has made scientific experiments and researches easier but with the capability to think, has produced results way beyond human limits. And this is just a childhood  stage, with more advancements in technologies, algorithms, we could not even possibly imagine to what extent future Artificial Intelligence will excell.\n",
        "\n",
        "But at an early stages of a baby, we as a parent should first try to teach AI to take first steps, and as we know this is just a beginning, we should first teach, how to find similar patterns to identify the world besides him, so that the machine could learn and answer when new questions are asked.\n",
        "\n",
        "That being said, in this exercise I will try to implement various machine learning algorithms to try and predict a regression problem. Regression in machine learning means, predicting numerical values. I will try my best to provide a fair enough analysis but surely theres always scope of a better version. The contents of the notebook include:\n",
        "\n",
        "1. <b>Exploratory data analysis:</b> In this section we will take a look at the features we have and by using different visualization techniques, find relationships among them.\n",
        "\n",
        "2. <b>Data Wrangling</b>: In this section we will try to modify our dataset, handle missing values, outliers, form new columns, convert data types, etc.\n",
        "\n",
        "3. <b> Splitting data and Standardization</b>: Here we will split out data into train and test sets and apply standardization methods.\n",
        "\n",
        "4. <b> Fit different models:</b> We will use some ML algorithms such as Linear regression, Decision tree, Random forest etc. and also check the performance using different evaluation metrics. We will also do hyperparameter tuning and implement regularization techniques to improve performance.\n",
        "\n",
        "5. <b> Conclusion</b>: Finally, we will try to dig insights from our experiment and frame all the observations made during the analysis.\n",
        "\n",
        "Lets begin!"
      ]
    },
    {
      "cell_type": "code",
      "metadata": {
        "id": "dByMsuzT8Tnw"
      },
      "source": [
        "# importing python libraries that would help us immensely during our endeavour\n",
        "import numpy as np\n",
        "import pandas as pd\n",
        "import matplotlib.pyplot as plt\n",
        "import seaborn as sns\n",
        "from sklearn.preprocessing import StandardScaler\n",
        "from sklearn.model_selection import train_test_split, GridSearchCV, RandomizedSearchCV\n",
        "from sklearn.linear_model import LinearRegression\n",
        "from sklearn.metrics import mean_absolute_error, mean_squared_error, r2_score\n",
        "\n",
        "\n",
        "# to not get tensed over unnecessary warwings we will ignore them\n",
        "import warnings\n",
        "warnings.filterwarnings('ignore')\n",
        "\n",
        "%matplotlib inline"
      ],
      "execution_count": 1,
      "outputs": []
    },
    {
      "cell_type": "code",
      "metadata": {
        "colab": {
          "base_uri": "https://localhost:8080/"
        },
        "id": "ndDjnuP03DTc",
        "outputId": "8434801b-94a4-4246-b4a7-b853dd6846c3"
      },
      "source": [
        "# mounting google drive\n",
        "from google.colab import drive\n",
        "drive.mount('/content/drive')"
      ],
      "execution_count": 2,
      "outputs": [
        {
          "output_type": "stream",
          "text": [
            "Mounted at /content/drive\n"
          ],
          "name": "stdout"
        }
      ]
    },
    {
      "cell_type": "code",
      "metadata": {
        "id": "TQKQl6RQ2m68"
      },
      "source": [
        "# loading the big guy\n",
        "directory_path=\"/content/drive/MyDrive/Almabetter/Bike Sharing Demand Prediction - Avilash Srivastava/\"\n",
        "seoul_df=pd.read_csv(directory_path+\"SeoulBikeData.csv\",encoding= 'unicode_escape')"
      ],
      "execution_count": 3,
      "outputs": []
    },
    {
      "cell_type": "markdown",
      "metadata": {
        "id": "sKH8-JQVO1Vq"
      },
      "source": [
        "Now that we have loaded our data, let us have an intial look at it."
      ]
    },
    {
      "cell_type": "code",
      "metadata": {
        "colab": {
          "base_uri": "https://localhost:8080/",
          "height": 321
        },
        "id": "-br_CQsp3Ev7",
        "outputId": "1431a17b-c989-4e31-bfe8-1c0b8530b292"
      },
      "source": [
        "# looking for top 5 rows\n",
        "seoul_df.head()"
      ],
      "execution_count": 4,
      "outputs": [
        {
          "output_type": "execute_result",
          "data": {
            "text/html": [
              "<div>\n",
              "<style scoped>\n",
              "    .dataframe tbody tr th:only-of-type {\n",
              "        vertical-align: middle;\n",
              "    }\n",
              "\n",
              "    .dataframe tbody tr th {\n",
              "        vertical-align: top;\n",
              "    }\n",
              "\n",
              "    .dataframe thead th {\n",
              "        text-align: right;\n",
              "    }\n",
              "</style>\n",
              "<table border=\"1\" class=\"dataframe\">\n",
              "  <thead>\n",
              "    <tr style=\"text-align: right;\">\n",
              "      <th></th>\n",
              "      <th>Date</th>\n",
              "      <th>Rented Bike Count</th>\n",
              "      <th>Hour</th>\n",
              "      <th>Temperature(°C)</th>\n",
              "      <th>Humidity(%)</th>\n",
              "      <th>Wind speed (m/s)</th>\n",
              "      <th>Visibility (10m)</th>\n",
              "      <th>Dew point temperature(°C)</th>\n",
              "      <th>Solar Radiation (MJ/m2)</th>\n",
              "      <th>Rainfall(mm)</th>\n",
              "      <th>Snowfall (cm)</th>\n",
              "      <th>Seasons</th>\n",
              "      <th>Holiday</th>\n",
              "      <th>Functioning Day</th>\n",
              "    </tr>\n",
              "  </thead>\n",
              "  <tbody>\n",
              "    <tr>\n",
              "      <th>0</th>\n",
              "      <td>01/12/2017</td>\n",
              "      <td>254</td>\n",
              "      <td>0</td>\n",
              "      <td>-5.2</td>\n",
              "      <td>37</td>\n",
              "      <td>2.2</td>\n",
              "      <td>2000</td>\n",
              "      <td>-17.6</td>\n",
              "      <td>0.0</td>\n",
              "      <td>0.0</td>\n",
              "      <td>0.0</td>\n",
              "      <td>Winter</td>\n",
              "      <td>No Holiday</td>\n",
              "      <td>Yes</td>\n",
              "    </tr>\n",
              "    <tr>\n",
              "      <th>1</th>\n",
              "      <td>01/12/2017</td>\n",
              "      <td>204</td>\n",
              "      <td>1</td>\n",
              "      <td>-5.5</td>\n",
              "      <td>38</td>\n",
              "      <td>0.8</td>\n",
              "      <td>2000</td>\n",
              "      <td>-17.6</td>\n",
              "      <td>0.0</td>\n",
              "      <td>0.0</td>\n",
              "      <td>0.0</td>\n",
              "      <td>Winter</td>\n",
              "      <td>No Holiday</td>\n",
              "      <td>Yes</td>\n",
              "    </tr>\n",
              "    <tr>\n",
              "      <th>2</th>\n",
              "      <td>01/12/2017</td>\n",
              "      <td>173</td>\n",
              "      <td>2</td>\n",
              "      <td>-6.0</td>\n",
              "      <td>39</td>\n",
              "      <td>1.0</td>\n",
              "      <td>2000</td>\n",
              "      <td>-17.7</td>\n",
              "      <td>0.0</td>\n",
              "      <td>0.0</td>\n",
              "      <td>0.0</td>\n",
              "      <td>Winter</td>\n",
              "      <td>No Holiday</td>\n",
              "      <td>Yes</td>\n",
              "    </tr>\n",
              "    <tr>\n",
              "      <th>3</th>\n",
              "      <td>01/12/2017</td>\n",
              "      <td>107</td>\n",
              "      <td>3</td>\n",
              "      <td>-6.2</td>\n",
              "      <td>40</td>\n",
              "      <td>0.9</td>\n",
              "      <td>2000</td>\n",
              "      <td>-17.6</td>\n",
              "      <td>0.0</td>\n",
              "      <td>0.0</td>\n",
              "      <td>0.0</td>\n",
              "      <td>Winter</td>\n",
              "      <td>No Holiday</td>\n",
              "      <td>Yes</td>\n",
              "    </tr>\n",
              "    <tr>\n",
              "      <th>4</th>\n",
              "      <td>01/12/2017</td>\n",
              "      <td>78</td>\n",
              "      <td>4</td>\n",
              "      <td>-6.0</td>\n",
              "      <td>36</td>\n",
              "      <td>2.3</td>\n",
              "      <td>2000</td>\n",
              "      <td>-18.6</td>\n",
              "      <td>0.0</td>\n",
              "      <td>0.0</td>\n",
              "      <td>0.0</td>\n",
              "      <td>Winter</td>\n",
              "      <td>No Holiday</td>\n",
              "      <td>Yes</td>\n",
              "    </tr>\n",
              "  </tbody>\n",
              "</table>\n",
              "</div>"
            ],
            "text/plain": [
              "         Date  Rented Bike Count  Hour  ...  Seasons     Holiday  Functioning Day\n",
              "0  01/12/2017                254     0  ...   Winter  No Holiday              Yes\n",
              "1  01/12/2017                204     1  ...   Winter  No Holiday              Yes\n",
              "2  01/12/2017                173     2  ...   Winter  No Holiday              Yes\n",
              "3  01/12/2017                107     3  ...   Winter  No Holiday              Yes\n",
              "4  01/12/2017                 78     4  ...   Winter  No Holiday              Yes\n",
              "\n",
              "[5 rows x 14 columns]"
            ]
          },
          "metadata": {
            "tags": []
          },
          "execution_count": 4
        }
      ]
    },
    {
      "cell_type": "code",
      "metadata": {
        "colab": {
          "base_uri": "https://localhost:8080/",
          "height": 321
        },
        "id": "5pz3OL80OZMo",
        "outputId": "69454267-fc87-4e73-b472-9f3716cf54e3"
      },
      "source": [
        "#looking for bottom 5 rows\n",
        "seoul_df.tail()"
      ],
      "execution_count": 5,
      "outputs": [
        {
          "output_type": "execute_result",
          "data": {
            "text/html": [
              "<div>\n",
              "<style scoped>\n",
              "    .dataframe tbody tr th:only-of-type {\n",
              "        vertical-align: middle;\n",
              "    }\n",
              "\n",
              "    .dataframe tbody tr th {\n",
              "        vertical-align: top;\n",
              "    }\n",
              "\n",
              "    .dataframe thead th {\n",
              "        text-align: right;\n",
              "    }\n",
              "</style>\n",
              "<table border=\"1\" class=\"dataframe\">\n",
              "  <thead>\n",
              "    <tr style=\"text-align: right;\">\n",
              "      <th></th>\n",
              "      <th>Date</th>\n",
              "      <th>Rented Bike Count</th>\n",
              "      <th>Hour</th>\n",
              "      <th>Temperature(°C)</th>\n",
              "      <th>Humidity(%)</th>\n",
              "      <th>Wind speed (m/s)</th>\n",
              "      <th>Visibility (10m)</th>\n",
              "      <th>Dew point temperature(°C)</th>\n",
              "      <th>Solar Radiation (MJ/m2)</th>\n",
              "      <th>Rainfall(mm)</th>\n",
              "      <th>Snowfall (cm)</th>\n",
              "      <th>Seasons</th>\n",
              "      <th>Holiday</th>\n",
              "      <th>Functioning Day</th>\n",
              "    </tr>\n",
              "  </thead>\n",
              "  <tbody>\n",
              "    <tr>\n",
              "      <th>8755</th>\n",
              "      <td>30/11/2018</td>\n",
              "      <td>1003</td>\n",
              "      <td>19</td>\n",
              "      <td>4.2</td>\n",
              "      <td>34</td>\n",
              "      <td>2.6</td>\n",
              "      <td>1894</td>\n",
              "      <td>-10.3</td>\n",
              "      <td>0.0</td>\n",
              "      <td>0.0</td>\n",
              "      <td>0.0</td>\n",
              "      <td>Autumn</td>\n",
              "      <td>No Holiday</td>\n",
              "      <td>Yes</td>\n",
              "    </tr>\n",
              "    <tr>\n",
              "      <th>8756</th>\n",
              "      <td>30/11/2018</td>\n",
              "      <td>764</td>\n",
              "      <td>20</td>\n",
              "      <td>3.4</td>\n",
              "      <td>37</td>\n",
              "      <td>2.3</td>\n",
              "      <td>2000</td>\n",
              "      <td>-9.9</td>\n",
              "      <td>0.0</td>\n",
              "      <td>0.0</td>\n",
              "      <td>0.0</td>\n",
              "      <td>Autumn</td>\n",
              "      <td>No Holiday</td>\n",
              "      <td>Yes</td>\n",
              "    </tr>\n",
              "    <tr>\n",
              "      <th>8757</th>\n",
              "      <td>30/11/2018</td>\n",
              "      <td>694</td>\n",
              "      <td>21</td>\n",
              "      <td>2.6</td>\n",
              "      <td>39</td>\n",
              "      <td>0.3</td>\n",
              "      <td>1968</td>\n",
              "      <td>-9.9</td>\n",
              "      <td>0.0</td>\n",
              "      <td>0.0</td>\n",
              "      <td>0.0</td>\n",
              "      <td>Autumn</td>\n",
              "      <td>No Holiday</td>\n",
              "      <td>Yes</td>\n",
              "    </tr>\n",
              "    <tr>\n",
              "      <th>8758</th>\n",
              "      <td>30/11/2018</td>\n",
              "      <td>712</td>\n",
              "      <td>22</td>\n",
              "      <td>2.1</td>\n",
              "      <td>41</td>\n",
              "      <td>1.0</td>\n",
              "      <td>1859</td>\n",
              "      <td>-9.8</td>\n",
              "      <td>0.0</td>\n",
              "      <td>0.0</td>\n",
              "      <td>0.0</td>\n",
              "      <td>Autumn</td>\n",
              "      <td>No Holiday</td>\n",
              "      <td>Yes</td>\n",
              "    </tr>\n",
              "    <tr>\n",
              "      <th>8759</th>\n",
              "      <td>30/11/2018</td>\n",
              "      <td>584</td>\n",
              "      <td>23</td>\n",
              "      <td>1.9</td>\n",
              "      <td>43</td>\n",
              "      <td>1.3</td>\n",
              "      <td>1909</td>\n",
              "      <td>-9.3</td>\n",
              "      <td>0.0</td>\n",
              "      <td>0.0</td>\n",
              "      <td>0.0</td>\n",
              "      <td>Autumn</td>\n",
              "      <td>No Holiday</td>\n",
              "      <td>Yes</td>\n",
              "    </tr>\n",
              "  </tbody>\n",
              "</table>\n",
              "</div>"
            ],
            "text/plain": [
              "            Date  Rented Bike Count  Hour  ...  Seasons     Holiday  Functioning Day\n",
              "8755  30/11/2018               1003    19  ...   Autumn  No Holiday              Yes\n",
              "8756  30/11/2018                764    20  ...   Autumn  No Holiday              Yes\n",
              "8757  30/11/2018                694    21  ...   Autumn  No Holiday              Yes\n",
              "8758  30/11/2018                712    22  ...   Autumn  No Holiday              Yes\n",
              "8759  30/11/2018                584    23  ...   Autumn  No Holiday              Yes\n",
              "\n",
              "[5 rows x 14 columns]"
            ]
          },
          "metadata": {
            "tags": []
          },
          "execution_count": 5
        }
      ]
    },
    {
      "cell_type": "code",
      "metadata": {
        "colab": {
          "base_uri": "https://localhost:8080/"
        },
        "id": "b6SiDdjmQbuE",
        "outputId": "307be201-d552-44c0-f98a-226bf869f595"
      },
      "source": [
        "# finding the columns of the datset\n",
        "print('The columns in the dataset are:','\\n','\\n',seoul_df.columns.to_list())"
      ],
      "execution_count": 6,
      "outputs": [
        {
          "output_type": "stream",
          "text": [
            "The columns in the dataset are: \n",
            " \n",
            " ['Date', 'Rented Bike Count', 'Hour', 'Temperature(°C)', 'Humidity(%)', 'Wind speed (m/s)', 'Visibility (10m)', 'Dew point temperature(°C)', 'Solar Radiation (MJ/m2)', 'Rainfall(mm)', 'Snowfall (cm)', 'Seasons', 'Holiday', 'Functioning Day']\n"
          ],
          "name": "stdout"
        }
      ]
    },
    {
      "cell_type": "code",
      "metadata": {
        "colab": {
          "base_uri": "https://localhost:8080/"
        },
        "id": "7-tL9xlIVwTt",
        "outputId": "3781e1c3-c9d0-4b22-beeb-34bb925c2aec"
      },
      "source": [
        "# finding the types of data in each column\n",
        "seoul_df.info()"
      ],
      "execution_count": 7,
      "outputs": [
        {
          "output_type": "stream",
          "text": [
            "<class 'pandas.core.frame.DataFrame'>\n",
            "RangeIndex: 8760 entries, 0 to 8759\n",
            "Data columns (total 14 columns):\n",
            " #   Column                     Non-Null Count  Dtype  \n",
            "---  ------                     --------------  -----  \n",
            " 0   Date                       8760 non-null   object \n",
            " 1   Rented Bike Count          8760 non-null   int64  \n",
            " 2   Hour                       8760 non-null   int64  \n",
            " 3   Temperature(°C)            8760 non-null   float64\n",
            " 4   Humidity(%)                8760 non-null   int64  \n",
            " 5   Wind speed (m/s)           8760 non-null   float64\n",
            " 6   Visibility (10m)           8760 non-null   int64  \n",
            " 7   Dew point temperature(°C)  8760 non-null   float64\n",
            " 8   Solar Radiation (MJ/m2)    8760 non-null   float64\n",
            " 9   Rainfall(mm)               8760 non-null   float64\n",
            " 10  Snowfall (cm)              8760 non-null   float64\n",
            " 11  Seasons                    8760 non-null   object \n",
            " 12  Holiday                    8760 non-null   object \n",
            " 13  Functioning Day            8760 non-null   object \n",
            "dtypes: float64(6), int64(4), object(4)\n",
            "memory usage: 958.2+ KB\n"
          ],
          "name": "stdout"
        }
      ]
    },
    {
      "cell_type": "markdown",
      "metadata": {
        "id": "QhkPAEW5V_KQ"
      },
      "source": [
        "The dataset has 3 types of data namely: Integer, float, strings/objects"
      ]
    },
    {
      "cell_type": "code",
      "metadata": {
        "colab": {
          "base_uri": "https://localhost:8080/"
        },
        "id": "NTiYYONEJnhm",
        "outputId": "cc984b63-a1b9-4995-a48a-10cd762116e2"
      },
      "source": [
        "# finding total no of rows in dataset\n",
        "print(\"The no of rows in the dataset is: \",len(seoul_df))"
      ],
      "execution_count": 8,
      "outputs": [
        {
          "output_type": "stream",
          "text": [
            "The no of rows in the dataset is:  8760\n"
          ],
          "name": "stdout"
        }
      ]
    },
    {
      "cell_type": "markdown",
      "metadata": {
        "id": "qzhiQbXlWzIY"
      },
      "source": [
        "### Understanding problem statement"
      ]
    },
    {
      "cell_type": "markdown",
      "metadata": {
        "id": "3LqoQh6YPNLz"
      },
      "source": [
        "Great! Now that we have seen what the data looks like, its time to understand what these features/variables/columns are and try to understand the problem statement given above.\n",
        "\n",
        "1. We have a variable 'date' which tells us the day on which some bookings were made\n",
        "\n",
        "2. We have a variable 'hour' which tells which hour of the day the bookings were made.\n",
        "\n",
        "3. We have some numerical type variables such as temperature, humidity, wind, visiblity, dew point temp, solar radiation, rainfall, snowfall which tells the environment conditions at that particular hour of the day.\n",
        "\n",
        "4. We have some categorical variable such as seasons, is it a holiday and is it a fuctioning day or not.\n",
        "\n",
        "5. And finally we have 'rented bike count' variable which we need to predict for new observations given the other variables.\n",
        "\n",
        "Bike rentals have became a popular service in recent years and it seems people are using it more offen. With relatively cheaper rates and ease of pick up and drop at own convenience is what making this business excell. Mostly used by people having no personal vehicles and also to avoid congested public transport which follows its own time.\n",
        "\n",
        "Therefore, the business to strive and profit more, it has to be always ready and supply no. of bikes at different locations, to fulfil the demand. A pre planned set of bike count values can therefore, be a handy solution to meet all demands.\n",
        "\n"
      ]
    },
    {
      "cell_type": "markdown",
      "metadata": {
        "id": "8FCBUE1nXdhl"
      },
      "source": [
        "Now that we know what we need to do in this exercise. Let us ask ourselves some questions:\n",
        "\n",
        "1. Are the numerical variables which can be be segmented into 'Environment conditions', have any impact on our dependent variable? (dependent variable, short - dv, in this case is our \"rental bikes count\" which we need to predict).\n",
        "\n",
        "  Why do we need them in first place?\n",
        "\n",
        "   Do these variable have any correlation with each other and also with   dependent variable?\n",
        "\n",
        "   Do these variable follow similar kind of distribution?\n",
        "\n",
        "2. Does the hour of the day reflects changes in bike demand?\n",
        "\n",
        "3. Does demand gets affected during different seasons, holidays etc?\n",
        "\n",
        "Let us now dwelve deeper and try to find those answers. Finally, we will fit various models that will predict bikes count given new observation.\n",
        "\n",
        "Lets do it!"
      ]
    },
    {
      "cell_type": "markdown",
      "metadata": {
        "id": "fmVeZvLgd4iu"
      },
      "source": [
        "# 1. Exploratory Data Analysis"
      ]
    },
    {
      "cell_type": "markdown",
      "metadata": {
        "id": "NG2VA3Jj_LBT"
      },
      "source": [
        "Exploratory data analysis aka EDA may sound fancy but is one of the most important step before we build a model. It tells us everything about the variables, their nature, structure, distribution, effects, importance, relationship with other variables and much more. An elegant EDA of the data helps to identify hidden patterns and find the driving factors who influence the dependent variable. Furthermore, it helps us to check on various assumptions that various models such as Linear regression demands. This is all done by using different visualization techniques such as bar graphs, histograms, boxplots, heatmaps etc.\n",
        "\n",
        "Lets dig deeper in analysing our first variable i.e., dependent variable and later we will analyse other variables."
      ]
    },
    {
      "cell_type": "markdown",
      "metadata": {
        "id": "UTHM4KzLDmVq"
      },
      "source": [
        "### Univariate analysis"
      ]
    },
    {
      "cell_type": "markdown",
      "metadata": {
        "id": "fKktQxSWEGsQ"
      },
      "source": [
        "In this section we will deal with each variables independently. Its important to note that some datasets concerning different type of problem can have a large number of variables/columns. So it might not be possible to conduct univariate analysis on all of them. There are ways in which we can skip the step and continue with multivariate analysis. However, in this problem we dont have much columns so we can proceed analysing each variable."
      ]
    },
    {
      "cell_type": "markdown",
      "metadata": {
        "id": "fbZfjnGXGIem"
      },
      "source": [
        "<b> 1. \"Rental Bike Count\" - Dependent variable(dv)"
      ]
    },
    {
      "cell_type": "markdown",
      "metadata": {
        "id": "UqIuLdYtG_Gf"
      },
      "source": [
        "As the most important variable in the data, let us try to find the descriptive stats of data and its distribution."
      ]
    },
    {
      "cell_type": "code",
      "metadata": {
        "colab": {
          "base_uri": "https://localhost:8080/"
        },
        "id": "LVOCqSeUPHn4",
        "outputId": "d6deb3d9-5a82-4241-d032-f33efd47738c"
      },
      "source": [
        "# descriptive stats of dv\n",
        "seoul_df['Rented Bike Count'].describe()"
      ],
      "execution_count": 9,
      "outputs": [
        {
          "output_type": "execute_result",
          "data": {
            "text/plain": [
              "count    8760.000000\n",
              "mean      704.602055\n",
              "std       644.997468\n",
              "min         0.000000\n",
              "25%       191.000000\n",
              "50%       504.500000\n",
              "75%      1065.250000\n",
              "max      3556.000000\n",
              "Name: Rented Bike Count, dtype: float64"
            ]
          },
          "metadata": {
            "tags": []
          },
          "execution_count": 9
        }
      ]
    },
    {
      "cell_type": "markdown",
      "metadata": {
        "id": "eo4g4w3ZJ8Sk"
      },
      "source": [
        "It looks like their might be some outliers in our variable if we observe the min, max, 25% and 75% values. "
      ]
    },
    {
      "cell_type": "code",
      "metadata": {
        "colab": {
          "base_uri": "https://localhost:8080/",
          "height": 421
        },
        "id": "qvrF_OqkJNSF",
        "outputId": "6652e810-ff76-4606-fcba-ccb12c1b4890"
      },
      "source": [
        "# checking outliers using box plot\n",
        "plt.figure(figsize=(10,6))\n",
        "plt.boxplot(seoul_df['Rented Bike Count'])\n",
        "plt.xlabel('Rented bike count variable')\n",
        "plt.ylabel('Count')\n",
        "plt.title(\"Boxplot of 'rented bike count'\")"
      ],
      "execution_count": 10,
      "outputs": [
        {
          "output_type": "execute_result",
          "data": {
            "text/plain": [
              "Text(0.5, 1.0, \"Boxplot of 'rented bike count'\")"
            ]
          },
          "metadata": {
            "tags": []
          },
          "execution_count": 10
        },
        {
          "output_type": "display_data",
          "data": {
            "image/png": "[encoded data removed]",
            "text/plain": [
              "<Figure size 720x432 with 1 Axes>"
            ]
          },
          "metadata": {
            "tags": [],
            "needs_background": "light"
          }
        }
      ]
    },
    {
      "cell_type": "markdown",
      "metadata": {
        "id": "F56tv4LNLaV3"
      },
      "source": [
        "Looks like we have a lot of outliers on the maximum side(above ~2500). We will deal with them later in this analysis. Let us now check the distribution of our variable."
      ]
    },
    {
      "cell_type": "code",
      "metadata": {
        "colab": {
          "base_uri": "https://localhost:8080/",
          "height": 329
        },
        "id": "g2ephImgKedR",
        "outputId": "ab9d1183-7035-4ff0-8f8b-780eac60c2fc"
      },
      "source": [
        "# checking the distribution of dv\n",
        "sns.distplot(seoul_df['Rented Bike Count'])\n",
        "plt.title('Distribution plot for rented bike count')\n",
        "\n",
        "#skewness and kurtosis\n",
        "print(\"Skewness: %f\" % seoul_df['Rented Bike Count'].skew())\n",
        "print(\"Kurtosis: %f\" % seoul_df['Rented Bike Count'].kurt())"
      ],
      "execution_count": 11,
      "outputs": [
        {
          "output_type": "stream",
          "text": [
            "Skewness: 1.153428\n",
            "Kurtosis: 0.853387\n"
          ],
          "name": "stdout"
        },
        {
          "output_type": "display_data",
          "data": {
            "image/png": "[encoded data removed]",
            "text/plain": [
              "<Figure size 432x288 with 1 Axes>"
            ]
          },
          "metadata": {
            "tags": [],
            "needs_background": "light"
          }
        }
      ]
    },
    {
      "cell_type": "markdown",
      "metadata": {
        "id": "ZW1CbFiyNesr"
      },
      "source": [
        "Looks like our variable is positively skewed having value 1.152 and has peakedness of 0.853. Let's take square root of our dv( as it is moderately skewed) and draw the plot it will give us more clarification about data and we can visualize in a better way"
      ]
    },
    {
      "cell_type": "code",
      "metadata": {
        "colab": {
          "base_uri": "https://localhost:8080/",
          "height": 312
        },
        "id": "imLU0iSaMP2l",
        "outputId": "f55d5e7e-9cc8-4257-a861-576499e2e825"
      },
      "source": [
        "# checking the distribution of dv after log transformation\n",
        "sns.distplot(np.sqrt(seoul_df['Rented Bike Count']),color='b')\n",
        "plt.xlabel('Rented Bike Count')\n",
        "plt.title('Sqrt transformed rented bike count')"
      ],
      "execution_count": 12,
      "outputs": [
        {
          "output_type": "execute_result",
          "data": {
            "text/plain": [
              "Text(0.5, 1.0, 'Sqrt transformed rented bike count')"
            ]
          },
          "metadata": {
            "tags": []
          },
          "execution_count": 12
        },
        {
          "output_type": "display_data",
          "data": {
            "image/png": "[encoded data removed]",
            "text/plain": [
              "<Figure size 432x288 with 1 Axes>"
            ]
          },
          "metadata": {
            "tags": [],
            "needs_background": "light"
          }
        }
      ]
    },
    {
      "cell_type": "markdown",
      "metadata": {
        "id": "OSPjvlgnSvoC"
      },
      "source": [
        "Beautiful! After applying a transformation we can see that our dv is somewhat resembling a normal distribution. Now we dont have to take care of the outliers as transformation has done the job for us. \n",
        "\n",
        "Note: One should proceed with caution when considering to remove observations from the data. In many cases, there is a valid reason for these observations to exist."
      ]
    },
    {
      "cell_type": "markdown",
      "metadata": {
        "id": "uZsXCbZHXQO2"
      },
      "source": [
        "<b> 2. Functioning day</b>\n"
      ]
    },
    {
      "cell_type": "markdown",
      "metadata": {
        "id": "ySJ6eQDdXwkW"
      },
      "source": [
        "It is a categorical variable with two values 'Yes' And 'No' as shown below. It tells us that whether the day was a normal business day for a company or not."
      ]
    },
    {
      "cell_type": "code",
      "metadata": {
        "colab": {
          "base_uri": "https://localhost:8080/"
        },
        "id": "xTZH-_YzX1-1",
        "outputId": "e2d22e97-49fc-4f9d-83bd-38219cd24ae6"
      },
      "source": [
        "# finding the categories of this variable\n",
        "print('The categories in functioning day are: ',seoul_df['Functioning Day'].unique().tolist())"
      ],
      "execution_count": 13,
      "outputs": [
        {
          "output_type": "stream",
          "text": [
            "The categories in functioning day are:  ['Yes', 'No']\n"
          ],
          "name": "stdout"
        }
      ]
    },
    {
      "cell_type": "markdown",
      "metadata": {
        "id": "0ixDXMoXYmUP"
      },
      "source": [
        "Let us find the count of each one of these category and visualize them."
      ]
    },
    {
      "cell_type": "code",
      "metadata": {
        "colab": {
          "base_uri": "https://localhost:8080/"
        },
        "id": "ru6O5ZuYO_9G",
        "outputId": "b60b43e4-a1c7-4549-e42f-931f3042ca51"
      },
      "source": [
        "# finding the count of Yes and No\n",
        "seoul_df['Functioning Day'].value_counts()"
      ],
      "execution_count": 14,
      "outputs": [
        {
          "output_type": "execute_result",
          "data": {
            "text/plain": [
              "Yes    8465\n",
              "No      295\n",
              "Name: Functioning Day, dtype: int64"
            ]
          },
          "metadata": {
            "tags": []
          },
          "execution_count": 14
        }
      ]
    },
    {
      "cell_type": "code",
      "metadata": {
        "colab": {
          "base_uri": "https://localhost:8080/",
          "height": 312
        },
        "id": "FqwUSAWWZecs",
        "outputId": "7b3bec89-b747-4c65-992c-c8a02ee71e3b"
      },
      "source": [
        "# visualizing the counts\n",
        "sns.countplot(seoul_df['Functioning Day'])\n",
        "plt.title('Countplot for functioning day variable')"
      ],
      "execution_count": 15,
      "outputs": [
        {
          "output_type": "execute_result",
          "data": {
            "text/plain": [
              "Text(0.5, 1.0, 'Countplot for functioning day variable')"
            ]
          },
          "metadata": {
            "tags": []
          },
          "execution_count": 15
        },
        {
          "output_type": "display_data",
          "data": {
            "image/png": "[encoded data removed]",
            "text/plain": [
              "<Figure size 432x288 with 1 Axes>"
            ]
          },
          "metadata": {
            "tags": [],
            "needs_background": "light"
          }
        }
      ]
    },
    {
      "cell_type": "markdown",
      "metadata": {
        "id": "sRdTxBMiZZvE"
      },
      "source": [
        "It looks like the majority class is Yes for this variable. And almost 3% No. It would be reasonable enough to drop this column during our model fitting. "
      ]
    },
    {
      "cell_type": "markdown",
      "metadata": {
        "id": "cS3pqdrObM5k"
      },
      "source": [
        "<b> 3. Holiday"
      ]
    },
    {
      "cell_type": "markdown",
      "metadata": {
        "id": "gwrcH7yxbfbE"
      },
      "source": [
        "It is a categorical variable having two classes 'No holiday' and 'Holiday'. Can be an important variable because there would be more demand during holidays as people like to tour during holidays. Lets see!"
      ]
    },
    {
      "cell_type": "code",
      "metadata": {
        "colab": {
          "base_uri": "https://localhost:8080/"
        },
        "id": "62B4UToOZSbV",
        "outputId": "dd0cb6ee-5fd5-4243-82ec-690008e8a028"
      },
      "source": [
        "# finding the categories of this variable\n",
        "print('The categories in holiday are: ',seoul_df['Holiday'].unique().tolist())"
      ],
      "execution_count": 16,
      "outputs": [
        {
          "output_type": "stream",
          "text": [
            "The categories in holiday are:  ['No Holiday', 'Holiday']\n"
          ],
          "name": "stdout"
        }
      ]
    },
    {
      "cell_type": "markdown",
      "metadata": {
        "id": "W0Aylhh_cQDT"
      },
      "source": [
        "Let us find the count of each one of these category and visualize them."
      ]
    },
    {
      "cell_type": "code",
      "metadata": {
        "colab": {
          "base_uri": "https://localhost:8080/"
        },
        "id": "0Vf13pTQbtd8",
        "outputId": "50970cda-6d5f-443f-a151-875a94ea834d"
      },
      "source": [
        "# finding the count of holiday and No holiday\n",
        "seoul_df['Holiday'].value_counts()"
      ],
      "execution_count": 17,
      "outputs": [
        {
          "output_type": "execute_result",
          "data": {
            "text/plain": [
              "No Holiday    8328\n",
              "Holiday        432\n",
              "Name: Holiday, dtype: int64"
            ]
          },
          "metadata": {
            "tags": []
          },
          "execution_count": 17
        }
      ]
    },
    {
      "cell_type": "code",
      "metadata": {
        "colab": {
          "base_uri": "https://localhost:8080/",
          "height": 312
        },
        "id": "jblSfe_6cgZB",
        "outputId": "27430201-d2e8-4d67-e432-caea64ec4bed"
      },
      "source": [
        "# visualizing the counts\n",
        "sns.countplot(seoul_df['Holiday'])\n",
        "plt.title('Countplot for holiday variable')"
      ],
      "execution_count": 18,
      "outputs": [
        {
          "output_type": "execute_result",
          "data": {
            "text/plain": [
              "Text(0.5, 1.0, 'Countplot for holiday variable')"
            ]
          },
          "metadata": {
            "tags": []
          },
          "execution_count": 18
        },
        {
          "output_type": "display_data",
          "data": {
            "image/png": "[encoded data removed]",
            "text/plain": [
              "<Figure size 432x288 with 1 Axes>"
            ]
          },
          "metadata": {
            "tags": [],
            "needs_background": "light"
          }
        }
      ]
    },
    {
      "cell_type": "markdown",
      "metadata": {
        "id": "k85VzeBxc97u"
      },
      "source": [
        "Again we have majority of one class here and other class being only around 5%. Hence we will drop this column during fitting Linear regression.\n",
        "\n",
        "Question: But why we should drop the column?\n",
        "\n",
        "Thats because we have around 95 percent belonging to a single class. Thus, if we get a new set of observations to predict, there is 95% probability that it will belong to the majority class. If you want to keep both classes for modelling, it would be better to get more data and look for better proportions of the classes, that would have an impact on our dv."
      ]
    },
    {
      "cell_type": "markdown",
      "metadata": {
        "id": "c-jIamUGoqjT"
      },
      "source": [
        "<b> 4. Seasons"
      ]
    },
    {
      "cell_type": "markdown",
      "metadata": {
        "id": "Shm-XMqGo8Hx"
      },
      "source": [
        "It is a categorical variable are Winter, Spring, Summer and Autumn as shown below. Let us also find the counts of each categories."
      ]
    },
    {
      "cell_type": "code",
      "metadata": {
        "id": "nwf3bM79c7xx",
        "colab": {
          "base_uri": "https://localhost:8080/"
        },
        "outputId": "abbf07d3-71f8-46af-be00-cea0920cf716"
      },
      "source": [
        "# finding the categories of season variable\n",
        "print('The categories in seasons are: ',seoul_df['Seasons'].unique().tolist())"
      ],
      "execution_count": 19,
      "outputs": [
        {
          "output_type": "stream",
          "text": [
            "The categories in seasons are:  ['Winter', 'Spring', 'Summer', 'Autumn']\n"
          ],
          "name": "stdout"
        }
      ]
    },
    {
      "cell_type": "code",
      "metadata": {
        "colab": {
          "base_uri": "https://localhost:8080/"
        },
        "id": "LyQQH8kxpcMf",
        "outputId": "a61a6e7b-ab3a-48ad-e97f-124bcbca2a60"
      },
      "source": [
        "# finding the count of each category of seasons.\n",
        "seoul_df['Seasons'].value_counts()"
      ],
      "execution_count": 20,
      "outputs": [
        {
          "output_type": "execute_result",
          "data": {
            "text/plain": [
              "Spring    2208\n",
              "Summer    2208\n",
              "Autumn    2184\n",
              "Winter    2160\n",
              "Name: Seasons, dtype: int64"
            ]
          },
          "metadata": {
            "tags": []
          },
          "execution_count": 20
        }
      ]
    },
    {
      "cell_type": "code",
      "metadata": {
        "colab": {
          "base_uri": "https://localhost:8080/",
          "height": 312
        },
        "id": "sQckx_Onp4Xk",
        "outputId": "6f9bfdef-64b0-472b-efa9-ddb34f0fa88c"
      },
      "source": [
        "# visualize the counts\n",
        "sns.countplot(seoul_df['Seasons'])\n",
        "plt.title('Counts of each season')"
      ],
      "execution_count": 21,
      "outputs": [
        {
          "output_type": "execute_result",
          "data": {
            "text/plain": [
              "Text(0.5, 1.0, 'Counts of each season')"
            ]
          },
          "metadata": {
            "tags": []
          },
          "execution_count": 21
        },
        {
          "output_type": "display_data",
          "data": {
            "image/png": "[encoded data removed]",
            "text/plain": [
              "<Figure size 432x288 with 1 Axes>"
            ]
          },
          "metadata": {
            "tags": [],
            "needs_background": "light"
          }
        }
      ]
    },
    {
      "cell_type": "markdown",
      "metadata": {
        "id": "tp4MLWGHrH1Y"
      },
      "source": [
        "Cleary we have an equal proportions of each of the seasons. We will see if this has any effect on our dv in our multivariate analysis and if it does, will surely encode this in our analysis."
      ]
    },
    {
      "cell_type": "markdown",
      "metadata": {
        "id": "vPFZeXu9IHm0"
      },
      "source": [
        "<b> 5. Date"
      ]
    },
    {
      "cell_type": "markdown",
      "metadata": {
        "id": "6KaLVXVLIPSY"
      },
      "source": [
        "It is a numerical variable which tells us the date of bookings. Let us see the count of how many days we have. For that we will try to separate the date column into days, months and years."
      ]
    },
    {
      "cell_type": "code",
      "metadata": {
        "id": "gJrQc_kjItlY"
      },
      "source": [
        "# making a fuction to separate date\n",
        "def date_seperator_year(date_column):\n",
        "  return date_column[6:]\n",
        "def date_seperator_month(date_column):\n",
        "  return date_column[3:5]\n",
        "def date_seperator_day(date_column):\n",
        "  return date_column[:2]"
      ],
      "execution_count": 23,
      "outputs": []
    },
    {
      "cell_type": "code",
      "metadata": {
        "id": "EFVIvj6EK_U6"
      },
      "source": [
        "# creating a copy od our dataframe to apply changes.\n",
        "seoul_df_copy=seoul_df.copy()"
      ],
      "execution_count": 25,
      "outputs": []
    },
    {
      "cell_type": "code",
      "metadata": {
        "id": "M6NW4g_XLGEn"
      },
      "source": [
        "# making new columns\n",
        "seoul_df_copy['Day']=seoul_df_copy['Date'].apply(date_seperator_day)\n",
        "seoul_df_copy['Month']=seoul_df_copy['Date'].apply(date_seperator_month)\n",
        "seoul_df_copy['Year']=seoul_df_copy['Date'].apply(date_seperator_year)"
      ],
      "execution_count": 26,
      "outputs": []
    },
    {
      "cell_type": "code",
      "metadata": {
        "colab": {
          "base_uri": "https://localhost:8080/",
          "height": 226
        },
        "id": "jpCuaDaHLjlY",
        "outputId": "a9816c1e-0a77-4b1f-ab8d-7db433ac2df2"
      },
      "source": [
        "# checking the changes\n",
        "seoul_df_copy.head(3)"
      ],
      "execution_count": 27,
      "outputs": [
        {
          "output_type": "execute_result",
          "data": {
            "text/html": [
              "<div>\n",
              "<style scoped>\n",
              "    .dataframe tbody tr th:only-of-type {\n",
              "        vertical-align: middle;\n",
              "    }\n",
              "\n",
              "    .dataframe tbody tr th {\n",
              "        vertical-align: top;\n",
              "    }\n",
              "\n",
              "    .dataframe thead th {\n",
              "        text-align: right;\n",
              "    }\n",
              "</style>\n",
              "<table border=\"1\" class=\"dataframe\">\n",
              "  <thead>\n",
              "    <tr style=\"text-align: right;\">\n",
              "      <th></th>\n",
              "      <th>Date</th>\n",
              "      <th>Rented Bike Count</th>\n",
              "      <th>Hour</th>\n",
              "      <th>Temperature(°C)</th>\n",
              "      <th>Humidity(%)</th>\n",
              "      <th>Wind speed (m/s)</th>\n",
              "      <th>Visibility (10m)</th>\n",
              "      <th>Dew point temperature(°C)</th>\n",
              "      <th>Solar Radiation (MJ/m2)</th>\n",
              "      <th>Rainfall(mm)</th>\n",
              "      <th>Snowfall (cm)</th>\n",
              "      <th>Seasons</th>\n",
              "      <th>Holiday</th>\n",
              "      <th>Functioning Day</th>\n",
              "      <th>Day</th>\n",
              "      <th>Month</th>\n",
              "      <th>Year</th>\n",
              "    </tr>\n",
              "  </thead>\n",
              "  <tbody>\n",
              "    <tr>\n",
              "      <th>0</th>\n",
              "      <td>01/12/2017</td>\n",
              "      <td>254</td>\n",
              "      <td>0</td>\n",
              "      <td>-5.2</td>\n",
              "      <td>37</td>\n",
              "      <td>2.2</td>\n",
              "      <td>2000</td>\n",
              "      <td>-17.6</td>\n",
              "      <td>0.0</td>\n",
              "      <td>0.0</td>\n",
              "      <td>0.0</td>\n",
              "      <td>Winter</td>\n",
              "      <td>No Holiday</td>\n",
              "      <td>Yes</td>\n",
              "      <td>01</td>\n",
              "      <td>12</td>\n",
              "      <td>2017</td>\n",
              "    </tr>\n",
              "    <tr>\n",
              "      <th>1</th>\n",
              "      <td>01/12/2017</td>\n",
              "      <td>204</td>\n",
              "      <td>1</td>\n",
              "      <td>-5.5</td>\n",
              "      <td>38</td>\n",
              "      <td>0.8</td>\n",
              "      <td>2000</td>\n",
              "      <td>-17.6</td>\n",
              "      <td>0.0</td>\n",
              "      <td>0.0</td>\n",
              "      <td>0.0</td>\n",
              "      <td>Winter</td>\n",
              "      <td>No Holiday</td>\n",
              "      <td>Yes</td>\n",
              "      <td>01</td>\n",
              "      <td>12</td>\n",
              "      <td>2017</td>\n",
              "    </tr>\n",
              "    <tr>\n",
              "      <th>2</th>\n",
              "      <td>01/12/2017</td>\n",
              "      <td>173</td>\n",
              "      <td>2</td>\n",
              "      <td>-6.0</td>\n",
              "      <td>39</td>\n",
              "      <td>1.0</td>\n",
              "      <td>2000</td>\n",
              "      <td>-17.7</td>\n",
              "      <td>0.0</td>\n",
              "      <td>0.0</td>\n",
              "      <td>0.0</td>\n",
              "      <td>Winter</td>\n",
              "      <td>No Holiday</td>\n",
              "      <td>Yes</td>\n",
              "      <td>01</td>\n",
              "      <td>12</td>\n",
              "      <td>2017</td>\n",
              "    </tr>\n",
              "  </tbody>\n",
              "</table>\n",
              "</div>"
            ],
            "text/plain": [
              "         Date  Rented Bike Count  Hour  ...  Day  Month  Year\n",
              "0  01/12/2017                254     0  ...   01     12  2017\n",
              "1  01/12/2017                204     1  ...   01     12  2017\n",
              "2  01/12/2017                173     2  ...   01     12  2017\n",
              "\n",
              "[3 rows x 17 columns]"
            ]
          },
          "metadata": {
            "tags": []
          },
          "execution_count": 27
        }
      ]
    },
    {
      "cell_type": "markdown",
      "metadata": {
        "id": "xV-1sUHVMIqk"
      },
      "source": [
        "Great! Three more columns have been added. Now let us see the no of years, month we have"
      ]
    },
    {
      "cell_type": "code",
      "metadata": {
        "colab": {
          "base_uri": "https://localhost:8080/"
        },
        "id": "j_rtjDqpL-b4",
        "outputId": "801a232d-80ec-402d-cf30-7d1288140252"
      },
      "source": [
        "# checking no of years\n",
        "seoul_df_copy['Year'].value_counts()"
      ],
      "execution_count": 29,
      "outputs": [
        {
          "output_type": "execute_result",
          "data": {
            "text/plain": [
              "2018    8016\n",
              "2017     744\n",
              "Name: Year, dtype: int64"
            ]
          },
          "metadata": {
            "tags": []
          },
          "execution_count": 29
        }
      ]
    },
    {
      "cell_type": "code",
      "metadata": {
        "colab": {
          "base_uri": "https://localhost:8080/",
          "height": 312
        },
        "id": "oK3VPZewMbCL",
        "outputId": "847991b0-5faf-4c6f-ead9-8de8d5c40300"
      },
      "source": [
        "# visualizing it\n",
        "sns.countplot(seoul_df_copy['Year'])\n",
        "plt.title('Count of Years')"
      ],
      "execution_count": 35,
      "outputs": [
        {
          "output_type": "execute_result",
          "data": {
            "text/plain": [
              "Text(0.5, 1.0, 'Count of Years')"
            ]
          },
          "metadata": {
            "tags": []
          },
          "execution_count": 35
        },
        {
          "output_type": "display_data",
          "data": {
            "image/png": "[encoded data removed]",
            "text/plain": [
              "<Figure size 432x288 with 1 Axes>"
            ]
          },
          "metadata": {
            "tags": [],
            "needs_background": "light"
          }
        }
      ]
    },
    {
      "cell_type": "markdown",
      "metadata": {
        "id": "ePDGpJJnM0Cx"
      },
      "source": [
        "Looks like we have most of the data from year 2018. Again we will drop this column in our analysis. Let us now have a look at months."
      ]
    },
    {
      "cell_type": "code",
      "metadata": {
        "colab": {
          "base_uri": "https://localhost:8080/",
          "height": 312
        },
        "id": "DCjiVtHPMyCF",
        "outputId": "6f0aab15-91a8-42b6-85c5-7e2cabfcd54e"
      },
      "source": [
        "# finding the counts of month\n",
        "sns.countplot(seoul_df_copy['Month'])\n",
        "plt.title('Count of each months')"
      ],
      "execution_count": 36,
      "outputs": [
        {
          "output_type": "execute_result",
          "data": {
            "text/plain": [
              "Text(0.5, 1.0, 'Count of each months')"
            ]
          },
          "metadata": {
            "tags": []
          },
          "execution_count": 36
        },
        {
          "output_type": "display_data",
          "data": {
            "image/png": "[encoded data removed]",
            "text/plain": [
              "<Figure size 432x288 with 1 Axes>"
            ]
          },
          "metadata": {
            "tags": [],
            "needs_background": "light"
          }
        }
      ]
    },
    {
      "cell_type": "markdown",
      "metadata": {
        "id": "btCQ1FXsNePR"
      },
      "source": [
        "We have almost equal no. of records for each month. We will keep this column in our analysis for now. Lets see the days."
      ]
    },
    {
      "cell_type": "code",
      "metadata": {
        "colab": {
          "base_uri": "https://localhost:8080/",
          "height": 367
        },
        "id": "eobWFW2jN82j",
        "outputId": "446838f6-8344-459a-f7be-f9ac7dbc7849"
      },
      "source": [
        "# finding the counts of days\n",
        "plt.figure(figsize=(10,5))\n",
        "sns.countplot(seoul_df_copy['Day'])\n",
        "plt.title('Count of each day')"
      ],
      "execution_count": 42,
      "outputs": [
        {
          "output_type": "execute_result",
          "data": {
            "text/plain": [
              "Text(0.5, 1.0, 'Count of each day')"
            ]
          },
          "metadata": {
            "tags": []
          },
          "execution_count": 42
        },
        {
          "output_type": "display_data",
          "data": {
            "image/png": "[encoded data removed]",
            "text/plain": [
              "<Figure size 720x360 with 1 Axes>"
            ]
          },
          "metadata": {
            "tags": [],
            "needs_background": "light"
          }
        }
      ]
    },
    {
      "cell_type": "markdown",
      "metadata": {
        "id": "80zKrZYLPgjm"
      },
      "source": [
        "Looks like we have equal no. of observations for each with little less observations for last days of the months."
      ]
    },
    {
      "cell_type": "markdown",
      "metadata": {
        "id": "QclqhxAJQerX"
      },
      "source": [
        "Now, let us analyse the numerical variables using boxplot. We will run a for loop to fasten our analysis."
      ]
    },
    {
      "cell_type": "markdown",
      "metadata": {
        "id": "eE3p69VsSNIF"
      },
      "source": [
        "<b> 6. All numerical variables"
      ]
    },
    {
      "cell_type": "code",
      "metadata": {
        "colab": {
          "base_uri": "https://localhost:8080/",
          "height": 295
        },
        "id": "7LLUV03zRU5E",
        "outputId": "2df4a7a4-fddf-4638-82b4-f6e3d1c41ee1"
      },
      "source": [
        "# first let us find the descriptive stats of our numerical variables\n",
        "seoul_df.describe()"
      ],
      "execution_count": 44,
      "outputs": [
        {
          "output_type": "execute_result",
          "data": {
            "text/html": [
              "<div>\n",
              "<style scoped>\n",
              "    .dataframe tbody tr th:only-of-type {\n",
              "        vertical-align: middle;\n",
              "    }\n",
              "\n",
              "    .dataframe tbody tr th {\n",
              "        vertical-align: top;\n",
              "    }\n",
              "\n",
              "    .dataframe thead th {\n",
              "        text-align: right;\n",
              "    }\n",
              "</style>\n",
              "<table border=\"1\" class=\"dataframe\">\n",
              "  <thead>\n",
              "    <tr style=\"text-align: right;\">\n",
              "      <th></th>\n",
              "      <th>Rented Bike Count</th>\n",
              "      <th>Hour</th>\n",
              "      <th>Temperature(°C)</th>\n",
              "      <th>Humidity(%)</th>\n",
              "      <th>Wind speed (m/s)</th>\n",
              "      <th>Visibility (10m)</th>\n",
              "      <th>Dew point temperature(°C)</th>\n",
              "      <th>Solar Radiation (MJ/m2)</th>\n",
              "      <th>Rainfall(mm)</th>\n",
              "      <th>Snowfall (cm)</th>\n",
              "    </tr>\n",
              "  </thead>\n",
              "  <tbody>\n",
              "    <tr>\n",
              "      <th>count</th>\n",
              "      <td>8760.000000</td>\n",
              "      <td>8760.000000</td>\n",
              "      <td>8760.000000</td>\n",
              "      <td>8760.000000</td>\n",
              "      <td>8760.000000</td>\n",
              "      <td>8760.000000</td>\n",
              "      <td>8760.000000</td>\n",
              "      <td>8760.000000</td>\n",
              "      <td>8760.000000</td>\n",
              "      <td>8760.000000</td>\n",
              "    </tr>\n",
              "    <tr>\n",
              "      <th>mean</th>\n",
              "      <td>704.602055</td>\n",
              "      <td>11.500000</td>\n",
              "      <td>12.882922</td>\n",
              "      <td>58.226256</td>\n",
              "      <td>1.724909</td>\n",
              "      <td>1436.825799</td>\n",
              "      <td>4.073813</td>\n",
              "      <td>0.569111</td>\n",
              "      <td>0.148687</td>\n",
              "      <td>0.075068</td>\n",
              "    </tr>\n",
              "    <tr>\n",
              "      <th>std</th>\n",
              "      <td>644.997468</td>\n",
              "      <td>6.922582</td>\n",
              "      <td>11.944825</td>\n",
              "      <td>20.362413</td>\n",
              "      <td>1.036300</td>\n",
              "      <td>608.298712</td>\n",
              "      <td>13.060369</td>\n",
              "      <td>0.868746</td>\n",
              "      <td>1.128193</td>\n",
              "      <td>0.436746</td>\n",
              "    </tr>\n",
              "    <tr>\n",
              "      <th>min</th>\n",
              "      <td>0.000000</td>\n",
              "      <td>0.000000</td>\n",
              "      <td>-17.800000</td>\n",
              "      <td>0.000000</td>\n",
              "      <td>0.000000</td>\n",
              "      <td>27.000000</td>\n",
              "      <td>-30.600000</td>\n",
              "      <td>0.000000</td>\n",
              "      <td>0.000000</td>\n",
              "      <td>0.000000</td>\n",
              "    </tr>\n",
              "    <tr>\n",
              "      <th>25%</th>\n",
              "      <td>191.000000</td>\n",
              "      <td>5.750000</td>\n",
              "      <td>3.500000</td>\n",
              "      <td>42.000000</td>\n",
              "      <td>0.900000</td>\n",
              "      <td>940.000000</td>\n",
              "      <td>-4.700000</td>\n",
              "      <td>0.000000</td>\n",
              "      <td>0.000000</td>\n",
              "      <td>0.000000</td>\n",
              "    </tr>\n",
              "    <tr>\n",
              "      <th>50%</th>\n",
              "      <td>504.500000</td>\n",
              "      <td>11.500000</td>\n",
              "      <td>13.700000</td>\n",
              "      <td>57.000000</td>\n",
              "      <td>1.500000</td>\n",
              "      <td>1698.000000</td>\n",
              "      <td>5.100000</td>\n",
              "      <td>0.010000</td>\n",
              "      <td>0.000000</td>\n",
              "      <td>0.000000</td>\n",
              "    </tr>\n",
              "    <tr>\n",
              "      <th>75%</th>\n",
              "      <td>1065.250000</td>\n",
              "      <td>17.250000</td>\n",
              "      <td>22.500000</td>\n",
              "      <td>74.000000</td>\n",
              "      <td>2.300000</td>\n",
              "      <td>2000.000000</td>\n",
              "      <td>14.800000</td>\n",
              "      <td>0.930000</td>\n",
              "      <td>0.000000</td>\n",
              "      <td>0.000000</td>\n",
              "    </tr>\n",
              "    <tr>\n",
              "      <th>max</th>\n",
              "      <td>3556.000000</td>\n",
              "      <td>23.000000</td>\n",
              "      <td>39.400000</td>\n",
              "      <td>98.000000</td>\n",
              "      <td>7.400000</td>\n",
              "      <td>2000.000000</td>\n",
              "      <td>27.200000</td>\n",
              "      <td>3.520000</td>\n",
              "      <td>35.000000</td>\n",
              "      <td>8.800000</td>\n",
              "    </tr>\n",
              "  </tbody>\n",
              "</table>\n",
              "</div>"
            ],
            "text/plain": [
              "       Rented Bike Count         Hour  ...  Rainfall(mm)  Snowfall (cm)\n",
              "count        8760.000000  8760.000000  ...   8760.000000    8760.000000\n",
              "mean          704.602055    11.500000  ...      0.148687       0.075068\n",
              "std           644.997468     6.922582  ...      1.128193       0.436746\n",
              "min             0.000000     0.000000  ...      0.000000       0.000000\n",
              "25%           191.000000     5.750000  ...      0.000000       0.000000\n",
              "50%           504.500000    11.500000  ...      0.000000       0.000000\n",
              "75%          1065.250000    17.250000  ...      0.000000       0.000000\n",
              "max          3556.000000    23.000000  ...     35.000000       8.800000\n",
              "\n",
              "[8 rows x 10 columns]"
            ]
          },
          "metadata": {
            "tags": []
          },
          "execution_count": 44
        }
      ]
    },
    {
      "cell_type": "markdown",
      "metadata": {
        "id": "VkrXgUyDRock"
      },
      "source": [
        "Hmmm.. Looking at the descriptions we can see last three colums, rainfall, snowfall, solar radiation have mostly 0 values. Let us confirm using box plot and distplots."
      ]
    },
    {
      "cell_type": "code",
      "metadata": {
        "id": "WDfdCub3O7Tc"
      },
      "source": [
        "# creating a list of numerical variable\n",
        "list_of_nv=['Hour', 'Temperature(°C)', 'Humidity(%)', 'Wind speed (m/s)', 'Visibility (10m)', 'Dew point temperature(°C)', 'Solar Radiation (MJ/m2)', 'Rainfall(mm)', 'Snowfall (cm)']"
      ],
      "execution_count": 43,
      "outputs": []
    },
    {
      "cell_type": "code",
      "metadata": {
        "colab": {
          "base_uri": "https://localhost:8080/",
          "height": 606
        },
        "id": "STWul3ruRLNu",
        "outputId": "12345be7-bb2e-4e52-b702-177aed4296a5"
      },
      "source": [
        "# running a for loop over each of the variables\n",
        "plt.figure(figsize=(10,10))\n",
        "for index,item in enumerate(list_of_nv):\n",
        "  plt.subplot(3,3,index+1)\n",
        "  sns.boxplot(seoul_df[item])"
      ],
      "execution_count": 57,
      "outputs": [
        {
          "output_type": "display_data",
          "data": {
            "image/png": "[encoded data removed]",
            "text/plain": [
              "<Figure size 720x720 with 9 Axes>"
            ]
          },
          "metadata": {
            "tags": [],
            "needs_background": "light"
          }
        }
      ]
    },
    {
      "cell_type": "code",
      "metadata": {
        "colab": {
          "base_uri": "https://localhost:8080/",
          "height": 606
        },
        "id": "r-ntYHgGSrjl",
        "outputId": "f9007775-c174-4d44-e1fe-7f4494877d06"
      },
      "source": [
        "# checking the distribution\n",
        "plt.figure(figsize=(10,10))\n",
        "for index,item in enumerate(list_of_nv):\n",
        "  plt.subplot(3,3,index+1)\n",
        "  sns.distplot(seoul_df[item])"
      ],
      "execution_count": 51,
      "outputs": [
        {
          "output_type": "display_data",
          "data": {
            "image/png": "[encoded data removed]",
            "text/plain": [
              "<Figure size 720x720 with 9 Axes>"
            ]
          },
          "metadata": {
            "tags": [],
            "needs_background": "light"
          }
        }
      ]
    },
    {
      "cell_type": "markdown",
      "metadata": {
        "id": "FlWc48v8VnYZ"
      },
      "source": [
        "Awesome! Looks like we dont have much outliers in our numerical variables. Also variable such as rainfall and snowfall have almost all zeroes. There are also variables such as visiblity and solar radiation which as skewed. We will handle them later in the analysis."
      ]
    },
    {
      "cell_type": "markdown",
      "metadata": {
        "id": "Ux5CZmRkWPA6"
      },
      "source": [
        "<b> Observations from univariate analysis</b>\n",
        "\n",
        "1. Our dv was slightly positively skewed. We applied square root transformation to make it somewhat normally distributed. Thus handling the outliers as well.\n",
        "\n",
        "2. Variables such as functioning day, holiday, year had majority of one class. We decided to drop these columns.\n",
        "\n",
        "3. Some numerical variables had maximum 0 values such as snowfall and rainfall. "
      ]
    },
    {
      "cell_type": "markdown",
      "metadata": {
        "id": "Bq2j9KxuXjY4"
      },
      "source": [
        "### Multivariate Analysis"
      ]
    },
    {
      "cell_type": "markdown",
      "metadata": {
        "id": "zm-lhDEjXnRA"
      },
      "source": [
        "Now that we went through each of the variables independently, let us now examine the relationship of each variable with our dependent variable."
      ]
    },
    {
      "cell_type": "code",
      "metadata": {
        "id": "D1XhSdtnUTe4"
      },
      "source": [
        ""
      ],
      "execution_count": null,
      "outputs": []
    }
  ]
}